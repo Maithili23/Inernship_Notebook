{
  "nbformat": 4,
  "nbformat_minor": 0,
  "metadata": {
    "colab": {
      "name": "June2_Class2.ipynb",
      "provenance": [],
      "collapsed_sections": []
    },
    "kernelspec": {
      "name": "python3",
      "display_name": "Python 3"
    }
  },
  "cells": [
    {
      "cell_type": "code",
      "metadata": {
        "id": "nm8vE5Dd_J1W",
        "colab_type": "code",
        "colab": {
          "base_uri": "https://localhost:8080/",
          "height": 118
        },
        "outputId": "bb7de764-f46d-43d8-c4ea-4f8f97f3b258"
      },
      "source": [
        "for i in range(0,11,2): #a,b a to b-1\n",
        "    print(i)"
      ],
      "execution_count": null,
      "outputs": [
        {
          "output_type": "stream",
          "text": [
            "0\n",
            "2\n",
            "4\n",
            "6\n",
            "8\n",
            "10\n"
          ],
          "name": "stdout"
        }
      ]
    },
    {
      "cell_type": "code",
      "metadata": {
        "id": "qlrpjZHa_2gR",
        "colab_type": "code",
        "colab": {
          "base_uri": "https://localhost:8080/",
          "height": 34
        },
        "outputId": "c71b2263-808c-49d7-c77f-54ca2d395eea"
      },
      "source": [
        "evens=[i for i in range(11) if i%2==0]   #list comprehension or ternary operator\n",
        "print(evens)"
      ],
      "execution_count": null,
      "outputs": [
        {
          "output_type": "stream",
          "text": [
            "[0, 2, 4, 6, 8, 10]\n"
          ],
          "name": "stdout"
        }
      ]
    },
    {
      "cell_type": "code",
      "metadata": {
        "id": "jljW9h--_5io",
        "colab_type": "code",
        "colab": {
          "base_uri": "https://localhost:8080/",
          "height": 70
        },
        "outputId": "001dee1e-e893-4c00-b94b-b9557c2bdacb"
      },
      "source": [
        "print(dir(list))\n",
        "evens.append(5)\n",
        "print(evens)"
      ],
      "execution_count": null,
      "outputs": [
        {
          "output_type": "stream",
          "text": [
            "['__add__', '__class__', '__contains__', '__delattr__', '__delitem__', '__dir__', '__doc__', '__eq__', '__format__', '__ge__', '__getattribute__', '__getitem__', '__gt__', '__hash__', '__iadd__', '__imul__', '__init__', '__init_subclass__', '__iter__', '__le__', '__len__', '__lt__', '__mul__', '__ne__', '__new__', '__reduce__', '__reduce_ex__', '__repr__', '__reversed__', '__rmul__', '__setattr__', '__setitem__', '__sizeof__', '__str__', '__subclasshook__', 'append', 'clear', 'copy', 'count', 'extend', 'index', 'insert', 'pop', 'remove', 'reverse', 'sort']\n",
            "[0, 2, 4, 6, 8, 10, 5]\n"
          ],
          "name": "stdout"
        }
      ]
    },
    {
      "cell_type": "code",
      "metadata": {
        "id": "roHfWWvQAMf7",
        "colab_type": "code",
        "colab": {
          "base_uri": "https://localhost:8080/",
          "height": 34
        },
        "outputId": "320b3ab3-6c69-42df-b05e-6542f22a530d"
      },
      "source": [
        "print(evens.count)"
      ],
      "execution_count": null,
      "outputs": [
        {
          "output_type": "stream",
          "text": [
            "<built-in method count of list object at 0x7f044aefde48>\n"
          ],
          "name": "stdout"
        }
      ]
    },
    {
      "cell_type": "code",
      "metadata": {
        "id": "qLpDyubfAShp",
        "colab_type": "code",
        "colab": {
          "base_uri": "https://localhost:8080/",
          "height": 34
        },
        "outputId": "b9bea4a1-8fb9-443d-ee56-ce81d7bdd514"
      },
      "source": [
        "evens.insert(3,12)          #Insert 12 in 3rd position\n",
        "evens"
      ],
      "execution_count": null,
      "outputs": [
        {
          "output_type": "execute_result",
          "data": {
            "text/plain": [
              "[0, 2, 4, 12, 5, 6, 8, 10, 12]"
            ]
          },
          "metadata": {
            "tags": []
          },
          "execution_count": 10
        }
      ]
    },
    {
      "cell_type": "code",
      "metadata": {
        "id": "cQ_fZacoAc0c",
        "colab_type": "code",
        "colab": {
          "base_uri": "https://localhost:8080/",
          "height": 34
        },
        "outputId": "b5a11d69-6e78-4974-a27e-87fbd6e299b7"
      },
      "source": [
        "evens.sort()\n",
        "evens"
      ],
      "execution_count": null,
      "outputs": [
        {
          "output_type": "execute_result",
          "data": {
            "text/plain": [
              "[0, 2, 4, 5, 6, 8, 10, 12, 12]"
            ]
          },
          "metadata": {
            "tags": []
          },
          "execution_count": 11
        }
      ]
    },
    {
      "cell_type": "code",
      "metadata": {
        "id": "PHV0NQrCAh2R",
        "colab_type": "code",
        "colab": {
          "base_uri": "https://localhost:8080/",
          "height": 134
        },
        "outputId": "637343a3-33a3-46a3-eae3-99432513e854"
      },
      "source": [
        "print(help(list.index))"
      ],
      "execution_count": null,
      "outputs": [
        {
          "output_type": "stream",
          "text": [
            "Help on method_descriptor:\n",
            "\n",
            "index(...)\n",
            "    L.index(value, [start, [stop]]) -> integer -- return first index of value.\n",
            "    Raises ValueError if the value is not present.\n",
            "\n",
            "None\n"
          ],
          "name": "stdout"
        }
      ]
    },
    {
      "cell_type": "code",
      "metadata": {
        "id": "iEk2YCqdA6p0",
        "colab_type": "code",
        "colab": {
          "base_uri": "https://localhost:8080/",
          "height": 84
        },
        "outputId": "bc1a278b-989c-40ad-dd10-7d7510097149"
      },
      "source": [
        "#DICTIONARY\n",
        "\n",
        "\n",
        "dic1={'a':1,'b':2,'c':3,5:67}\n",
        "for key,value in dic1.items():\n",
        "    print(\"{}:{}\".format(key,value))"
      ],
      "execution_count": null,
      "outputs": [
        {
          "output_type": "stream",
          "text": [
            "a:1\n",
            "b:2\n",
            "c:3\n",
            "5:67\n"
          ],
          "name": "stdout"
        }
      ]
    },
    {
      "cell_type": "code",
      "metadata": {
        "id": "mVC66xBJBLFw",
        "colab_type": "code",
        "colab": {
          "base_uri": "https://localhost:8080/",
          "height": 84
        },
        "outputId": "79052639-a278-45b1-aa42-042bd08709e2"
      },
      "source": [
        "#DICTIONARY\n",
        "\n",
        "\n",
        "dic1={'a':1,'b':2,'c':3,5:67}\n",
        "for key,value in dic1.items():\n",
        "    print(\"{}:{}\".format(value,key))"
      ],
      "execution_count": null,
      "outputs": [
        {
          "output_type": "stream",
          "text": [
            "1:a\n",
            "2:b\n",
            "3:c\n",
            "67:5\n"
          ],
          "name": "stdout"
        }
      ]
    },
    {
      "cell_type": "code",
      "metadata": {
        "id": "gvQ2zltVBUbj",
        "colab_type": "code",
        "colab": {
          "base_uri": "https://localhost:8080/",
          "height": 34
        },
        "outputId": "33b71846-2e86-4ede-e7ee-5de7b853c78d"
      },
      "source": [
        "simple_dict={i:i**2 for i in range(10)}     #dictionary comprehension\n",
        "print(simple_dict)"
      ],
      "execution_count": null,
      "outputs": [
        {
          "output_type": "stream",
          "text": [
            "{0: 0, 1: 1, 2: 4, 3: 9, 4: 16, 5: 25, 6: 36, 7: 49, 8: 64, 9: 81}\n"
          ],
          "name": "stdout"
        }
      ]
    },
    {
      "cell_type": "code",
      "metadata": {
        "id": "WuvZpmLGBebY",
        "colab_type": "code",
        "colab": {
          "base_uri": "https://localhost:8080/",
          "height": 34
        },
        "outputId": "158af862-46ef-4c5f-fc2f-20cfe4f587eb"
      },
      "source": [
        "simple_set={i for i in range(10)}\n",
        "simple_set"
      ],
      "execution_count": null,
      "outputs": [
        {
          "output_type": "execute_result",
          "data": {
            "text/plain": [
              "{0, 1, 2, 3, 4, 5, 6, 7, 8, 9}"
            ]
          },
          "metadata": {
            "tags": []
          },
          "execution_count": 16
        }
      ]
    },
    {
      "cell_type": "code",
      "metadata": {
        "id": "uVCHT2N6ByCM",
        "colab_type": "code",
        "colab": {
          "base_uri": "https://localhost:8080/",
          "height": 34
        },
        "outputId": "179896a3-4561-41be-98bc-4262bf100d5f"
      },
      "source": [
        "evens=[0,2,2,4,4,6,8,10,10,8]\n",
        "print((set(evens)))                         #type casting"
      ],
      "execution_count": null,
      "outputs": [
        {
          "output_type": "stream",
          "text": [
            "{0, 2, 4, 6, 8, 10}\n"
          ],
          "name": "stdout"
        }
      ]
    },
    {
      "cell_type": "code",
      "metadata": {
        "id": "C_6R1rZqB6DP",
        "colab_type": "code",
        "colab": {
          "base_uri": "https://localhost:8080/",
          "height": 370
        },
        "outputId": "b55f3964-8da1-4d4b-b326-250bcdd341a7"
      },
      "source": [
        "#Zen of python---see in net (for placement)\n",
        "#simple is better than complex is better than complecated\n",
        "import this"
      ],
      "execution_count": null,
      "outputs": [
        {
          "output_type": "stream",
          "text": [
            "The Zen of Python, by Tim Peters\n",
            "\n",
            "Beautiful is better than ugly.\n",
            "Explicit is better than implicit.\n",
            "Simple is better than complex.\n",
            "Complex is better than complicated.\n",
            "Flat is better than nested.\n",
            "Sparse is better than dense.\n",
            "Readability counts.\n",
            "Special cases aren't special enough to break the rules.\n",
            "Although practicality beats purity.\n",
            "Errors should never pass silently.\n",
            "Unless explicitly silenced.\n",
            "In the face of ambiguity, refuse the temptation to guess.\n",
            "There should be one-- and preferably only one --obvious way to do it.\n",
            "Although that way may not be obvious at first unless you're Dutch.\n",
            "Now is better than never.\n",
            "Although never is often better than *right* now.\n",
            "If the implementation is hard to explain, it's a bad idea.\n",
            "If the implementation is easy to explain, it may be a good idea.\n",
            "Namespaces are one honking great idea -- let's do more of those!\n"
          ],
          "name": "stdout"
        }
      ]
    },
    {
      "cell_type": "code",
      "metadata": {
        "id": "xeNq1yZ6CGE5",
        "colab_type": "code",
        "colab": {
          "base_uri": "https://localhost:8080/",
          "height": 34
        },
        "outputId": "982145c7-c224-478e-dae9-1e019d2ce5aa"
      },
      "source": [
        "x,*y=2,4,6,8\n",
        "x"
      ],
      "execution_count": null,
      "outputs": [
        {
          "output_type": "execute_result",
          "data": {
            "text/plain": [
              "2"
            ]
          },
          "metadata": {
            "tags": []
          },
          "execution_count": 19
        }
      ]
    },
    {
      "cell_type": "code",
      "metadata": {
        "id": "DH2PTmzDCTAk",
        "colab_type": "code",
        "colab": {
          "base_uri": "https://localhost:8080/",
          "height": 34
        },
        "outputId": "8f99d1ab-fed1-460b-e671-03c99f6b82f0"
      },
      "source": [
        "y"
      ],
      "execution_count": null,
      "outputs": [
        {
          "output_type": "execute_result",
          "data": {
            "text/plain": [
              "[4, 6, 8]"
            ]
          },
          "metadata": {
            "tags": []
          },
          "execution_count": 20
        }
      ]
    },
    {
      "cell_type": "code",
      "metadata": {
        "id": "rRjuNpUXCTrt",
        "colab_type": "code",
        "colab": {
          "base_uri": "https://localhost:8080/",
          "height": 34
        },
        "outputId": "a7c5d790-8afc-4f2c-f216-3253d5920f94"
      },
      "source": [
        "x={'u':1}\n",
        "y={'v':2}\n",
        "z={**x,**y,'w':4}\n",
        "z"
      ],
      "execution_count": null,
      "outputs": [
        {
          "output_type": "execute_result",
          "data": {
            "text/plain": [
              "{'u': 1, 'v': 2, 'w': 4}"
            ]
          },
          "metadata": {
            "tags": []
          },
          "execution_count": 22
        }
      ]
    },
    {
      "cell_type": "code",
      "metadata": {
        "id": "e2pQL-yxCkn4",
        "colab_type": "code",
        "colab": {
          "base_uri": "https://localhost:8080/",
          "height": 34
        },
        "outputId": "8f2745c9-6f7f-4f33-9eb5-1b12411f0abc"
      },
      "source": [
        "x={'u':1,'z':26}\n",
        "y={'v':2,'y':25}\n",
        "z={**x,**y,'w':4}\n",
        "z"
      ],
      "execution_count": null,
      "outputs": [
        {
          "output_type": "execute_result",
          "data": {
            "text/plain": [
              "{'u': 1, 'v': 2, 'w': 4, 'y': 25, 'z': 26}"
            ]
          },
          "metadata": {
            "tags": []
          },
          "execution_count": 24
        }
      ]
    },
    {
      "cell_type": "code",
      "metadata": {
        "id": "xX0EJIqiCz0-",
        "colab_type": "code",
        "colab": {
          "base_uri": "https://localhost:8080/",
          "height": 34
        },
        "outputId": "7f630e68-6c6d-4318-f183-1d3d61ff6ad2"
      },
      "source": [
        "x={'u':4,'w':2,'v':1}\n",
        "sorted(x.items())"
      ],
      "execution_count": null,
      "outputs": [
        {
          "output_type": "execute_result",
          "data": {
            "text/plain": [
              "[('u', 4), ('v', 1), ('w', 2)]"
            ]
          },
          "metadata": {
            "tags": []
          },
          "execution_count": 25
        }
      ]
    },
    {
      "cell_type": "code",
      "metadata": {
        "id": "wGFsqdVWC_hP",
        "colab_type": "code",
        "colab": {
          "base_uri": "https://localhost:8080/",
          "height": 34
        },
        "outputId": "2bfed0df-90f4-44eb-dc61-e12925d542fb"
      },
      "source": [
        "sorted(x.items(),key=lambda item:item[1])"
      ],
      "execution_count": null,
      "outputs": [
        {
          "output_type": "execute_result",
          "data": {
            "text/plain": [
              "[('v', 1), ('w', 2), ('u', 4)]"
            ]
          },
          "metadata": {
            "tags": []
          },
          "execution_count": 26
        }
      ]
    },
    {
      "cell_type": "code",
      "metadata": {
        "id": "j5Q0xIiYDEi5",
        "colab_type": "code",
        "colab": {
          "base_uri": "https://localhost:8080/",
          "height": 34
        },
        "outputId": "70151b85-7ba2-4f80-d67b-b052961a5a91"
      },
      "source": [
        "import datetime\n",
        "datetime.datetime.now()"
      ],
      "execution_count": null,
      "outputs": [
        {
          "output_type": "execute_result",
          "data": {
            "text/plain": [
              "datetime.datetime(2020, 6, 24, 15, 58, 8, 826953)"
            ]
          },
          "metadata": {
            "tags": []
          },
          "execution_count": 27
        }
      ]
    },
    {
      "cell_type": "code",
      "metadata": {
        "id": "683Ynv_wDPec",
        "colab_type": "code",
        "colab": {
          "base_uri": "https://localhost:8080/",
          "height": 34
        },
        "outputId": "e973da2a-d8bc-488e-a7db-9c05218e213f"
      },
      "source": [
        "!ls"
      ],
      "execution_count": null,
      "outputs": [
        {
          "output_type": "stream",
          "text": [
            "sample_data\n"
          ],
          "name": "stdout"
        }
      ]
    },
    {
      "cell_type": "code",
      "metadata": {
        "id": "HvLEWqCfDX_8",
        "colab_type": "code",
        "colab": {
          "base_uri": "https://localhost:8080/",
          "height": 34
        },
        "outputId": "89e1f35a-9565-48c8-ef7d-4f6d044c7a4b"
      },
      "source": [
        "!date"
      ],
      "execution_count": null,
      "outputs": [
        {
          "output_type": "stream",
          "text": [
            "Wed Jun 24 15:58:51 UTC 2020\n"
          ],
          "name": "stdout"
        }
      ]
    },
    {
      "cell_type": "code",
      "metadata": {
        "id": "GDLeorwCDYor",
        "colab_type": "code",
        "colab": {
          "base_uri": "https://localhost:8080/",
          "height": 151
        },
        "outputId": "140e5aad-07c7-4603-e41b-2835b5f17fbf"
      },
      "source": [
        "!cal"
      ],
      "execution_count": null,
      "outputs": [
        {
          "output_type": "stream",
          "text": [
            "     June 2020        \n",
            "Su Mo Tu We Th Fr Sa  \n",
            "    1  2  3  4  5  6  \n",
            " 7  8  9 10 11 12 13  \n",
            "14 15 16 17 18 19 20  \n",
            "21 22 23 \u001b[7m24\u001b[m 25 26 27  \n",
            "28 29 30              \n",
            "                      \n"
          ],
          "name": "stdout"
        }
      ]
    },
    {
      "cell_type": "code",
      "metadata": {
        "id": "AeRAa6fJDf5t",
        "colab_type": "code",
        "colab": {
          "base_uri": "https://localhost:8080/",
          "height": 34
        },
        "outputId": "727f6c93-21f2-4b64-fded-b88c82ef37fb"
      },
      "source": [
        "!pwd"
      ],
      "execution_count": null,
      "outputs": [
        {
          "output_type": "stream",
          "text": [
            "/content\n"
          ],
          "name": "stdout"
        }
      ]
    },
    {
      "cell_type": "code",
      "metadata": {
        "id": "Sd7jG85EDhba",
        "colab_type": "code",
        "colab": {
          "base_uri": "https://localhost:8080/",
          "height": 34
        },
        "outputId": "cea39785-7c29-4b6b-9b1b-ff276f747e29"
      },
      "source": [
        "students=[\"Peter\",\"George\",\"Jack\"]\n",
        "marks=[84,92,91]\n",
        "diction_1=dict(zip(students,marks))\n",
        "print(diction_1)"
      ],
      "execution_count": null,
      "outputs": [
        {
          "output_type": "stream",
          "text": [
            "{'Peter': 84, 'George': 92, 'Jack': 91}\n"
          ],
          "name": "stdout"
        }
      ]
    },
    {
      "cell_type": "code",
      "metadata": {
        "id": "OTcGFA9xD279",
        "colab_type": "code",
        "colab": {
          "base_uri": "https://localhost:8080/",
          "height": 34
        },
        "outputId": "2823062c-e68c-4562-ae3c-a97c2d4939e4"
      },
      "source": [
        "import time\n",
        "t1=time.clock()\n",
        "sum((i*i for i in range(1,100000000)))\n",
        "t2=time.clock()\n",
        "time_diff=t2-t1\n",
        "print(f\"it took {time_diff} secs to execute this method\")"
      ],
      "execution_count": null,
      "outputs": [
        {
          "output_type": "stream",
          "text": [
            "it took 10.730895 secs to execute this method\n"
          ],
          "name": "stdout"
        }
      ]
    },
    {
      "cell_type": "code",
      "metadata": {
        "id": "D3Nj-TUUD9V-",
        "colab_type": "code",
        "colab": {
          "base_uri": "https://localhost:8080/",
          "height": 185
        },
        "outputId": "b9b3f05e-728c-4e95-a84d-25257b83d649"
      },
      "source": [
        "!pip install emoji"
      ],
      "execution_count": null,
      "outputs": [
        {
          "output_type": "stream",
          "text": [
            "Collecting emoji\n",
            "\u001b[?25l  Downloading https://files.pythonhosted.org/packages/40/8d/521be7f0091fe0f2ae690cc044faf43e3445e0ff33c574eae752dd7e39fa/emoji-0.5.4.tar.gz (43kB)\n",
            "\r\u001b[K     |███████▌                        | 10kB 18.9MB/s eta 0:00:01\r\u001b[K     |███████████████                 | 20kB 1.7MB/s eta 0:00:01\r\u001b[K     |██████████████████████▋         | 30kB 2.3MB/s eta 0:00:01\r\u001b[K     |██████████████████████████████▏ | 40kB 2.6MB/s eta 0:00:01\r\u001b[K     |████████████████████████████████| 51kB 1.7MB/s \n",
            "\u001b[?25hBuilding wheels for collected packages: emoji\n",
            "  Building wheel for emoji (setup.py) ... \u001b[?25l\u001b[?25hdone\n",
            "  Created wheel for emoji: filename=emoji-0.5.4-cp36-none-any.whl size=42176 sha256=e786df009a25ea00cb1d8de00e313c1d9048a83776a8369b8f4fddbf37d233df\n",
            "  Stored in directory: /root/.cache/pip/wheels/2a/a9/0a/4f8e8cce8074232aba240caca3fade315bb49fac68808d1a9c\n",
            "Successfully built emoji\n",
            "Installing collected packages: emoji\n",
            "Successfully installed emoji-0.5.4\n"
          ],
          "name": "stdout"
        }
      ]
    },
    {
      "cell_type": "code",
      "metadata": {
        "id": "_8oLmqqKEFKp",
        "colab_type": "code",
        "colab": {
          "base_uri": "https://localhost:8080/",
          "height": 34
        },
        "outputId": "ce7fe642-6f97-486a-ce1a-9a71b6c8482a"
      },
      "source": [
        "from emoji import emojize\n",
        "print(emojize(\":winking_face_with_tongue:\"))"
      ],
      "execution_count": null,
      "outputs": [
        {
          "output_type": "stream",
          "text": [
            "😜\n"
          ],
          "name": "stdout"
        }
      ]
    },
    {
      "cell_type": "code",
      "metadata": {
        "id": "f07KSTCsENoh",
        "colab_type": "code",
        "colab": {
          "base_uri": "https://localhost:8080/",
          "height": 34
        },
        "outputId": "21ba1191-7ac1-45cf-d595-c0a7a046efb3"
      },
      "source": [
        "print(\"\\N{winking face}\")"
      ],
      "execution_count": null,
      "outputs": [
        {
          "output_type": "stream",
          "text": [
            "😉\n"
          ],
          "name": "stdout"
        }
      ]
    },
    {
      "cell_type": "code",
      "metadata": {
        "id": "TW4G070JETQR",
        "colab_type": "code",
        "colab": {
          "base_uri": "https://localhost:8080/",
          "height": 50
        },
        "outputId": "653228f0-79bd-441e-dfa8-a1885638a1bc"
      },
      "source": [
        "!pip install geopy"
      ],
      "execution_count": null,
      "outputs": [
        {
          "output_type": "stream",
          "text": [
            "Requirement already satisfied: geopy in /usr/local/lib/python3.6/dist-packages (1.17.0)\n",
            "Requirement already satisfied: geographiclib<2,>=1.49 in /usr/local/lib/python3.6/dist-packages (from geopy) (1.50)\n"
          ],
          "name": "stdout"
        }
      ]
    },
    {
      "cell_type": "code",
      "metadata": {
        "id": "Yc-nV4kpEXDK",
        "colab_type": "code",
        "colab": {}
      },
      "source": [
        "from geopy import GoogleV3 "
      ],
      "execution_count": null,
      "outputs": []
    },
    {
      "cell_type": "code",
      "metadata": {
        "id": "_M5NHS1rEer1",
        "colab_type": "code",
        "colab": {
          "base_uri": "https://localhost:8080/",
          "height": 50
        },
        "outputId": "9e444837-38b8-4759-bc48-2300b10ce09e"
      },
      "source": [
        "from geopy import Nominatim\n",
        "locator=Nominatim(user_agent='myGeocoder')\n",
        "location=locator.geocode(\"Nitte\")\n",
        "print('Latitude={},Longitude={}'.format(location.latitude,location.longitude))\n",
        "print(location.address)"
      ],
      "execution_count": null,
      "outputs": [
        {
          "output_type": "stream",
          "text": [
            "Latitude=13.1821507,Longitude=74.9347608\n",
            "Nitte, Karkala taluk, Udupi district, Karnataka, India\n"
          ],
          "name": "stdout"
        }
      ]
    },
    {
      "cell_type": "code",
      "metadata": {
        "id": "RGwgIq8EF-kg",
        "colab_type": "code",
        "colab": {
          "base_uri": "https://localhost:8080/",
          "height": 420
        },
        "outputId": "3c5513fb-2e75-4848-85c6-4d845dc977f3"
      },
      "source": [
        "!pip install howdoi"
      ],
      "execution_count": null,
      "outputs": [
        {
          "output_type": "stream",
          "text": [
            "Collecting howdoi\n",
            "  Downloading https://files.pythonhosted.org/packages/03/db/c9b5bb64adac16b0feab7924fb1134ce88bc38f7af4e74aca27c48de26df/howdoi-1.2.1.tar.gz\n",
            "Collecting pyquery\n",
            "  Downloading https://files.pythonhosted.org/packages/78/43/95d42e386c61cb639d1a0b94f0c0b9f0b7d6b981ad3c043a836c8b5bc68b/pyquery-1.4.1-py2.py3-none-any.whl\n",
            "Requirement already satisfied: pygments in /usr/local/lib/python3.6/dist-packages (from howdoi) (2.1.3)\n",
            "Requirement already satisfied: requests in /usr/local/lib/python3.6/dist-packages (from howdoi) (2.23.0)\n",
            "Collecting cachelib\n",
            "  Downloading https://files.pythonhosted.org/packages/e6/fc/9c5571cf72ac3ea64ad5cd9d704c1000452cb483a6a3233357d8f3da6991/cachelib-0.1.1-py3-none-any.whl\n",
            "Collecting appdirs\n",
            "  Downloading https://files.pythonhosted.org/packages/3b/00/2344469e2084fb287c2e0b57b72910309874c3245463acd6cf5e3db69324/appdirs-1.4.4-py2.py3-none-any.whl\n",
            "Requirement already satisfied: lxml>=2.1 in /usr/local/lib/python3.6/dist-packages (from pyquery->howdoi) (4.2.6)\n",
            "Collecting cssselect>0.7.9\n",
            "  Downloading https://files.pythonhosted.org/packages/3b/d4/3b5c17f00cce85b9a1e6f91096e1cc8e8ede2e1be8e96b87ce1ed09e92c5/cssselect-1.1.0-py2.py3-none-any.whl\n",
            "Requirement already satisfied: certifi>=2017.4.17 in /usr/local/lib/python3.6/dist-packages (from requests->howdoi) (2020.4.5.2)\n",
            "Requirement already satisfied: chardet<4,>=3.0.2 in /usr/local/lib/python3.6/dist-packages (from requests->howdoi) (3.0.4)\n",
            "Requirement already satisfied: urllib3!=1.25.0,!=1.25.1,<1.26,>=1.21.1 in /usr/local/lib/python3.6/dist-packages (from requests->howdoi) (1.24.3)\n",
            "Requirement already satisfied: idna<3,>=2.5 in /usr/local/lib/python3.6/dist-packages (from requests->howdoi) (2.9)\n",
            "Building wheels for collected packages: howdoi\n",
            "  Building wheel for howdoi (setup.py) ... \u001b[?25l\u001b[?25hdone\n",
            "  Created wheel for howdoi: filename=howdoi-1.2.1-cp36-none-any.whl size=9541 sha256=da02a288951c78f38f69c39c327c85c2ac45100248fc9071970bd832da1752b6\n",
            "  Stored in directory: /root/.cache/pip/wheels/0f/48/7e/afc275bb678333796185d8efcffa3f3dc9dbd4984daf487b73\n",
            "Successfully built howdoi\n",
            "Installing collected packages: cssselect, pyquery, cachelib, appdirs, howdoi\n",
            "Successfully installed appdirs-1.4.4 cachelib-0.1.1 cssselect-1.1.0 howdoi-1.2.1 pyquery-1.4.1\n"
          ],
          "name": "stdout"
        }
      ]
    },
    {
      "cell_type": "code",
      "metadata": {
        "id": "TC0n8FyXI6kc",
        "colab_type": "code",
        "colab": {
          "base_uri": "https://localhost:8080/",
          "height": 84
        },
        "outputId": "d7b46a2f-2cc3-4196-c700-5dd6e807713b"
      },
      "source": [
        "!howdoi for loop in java"
      ],
      "execution_count": null,
      "outputs": [
        {
          "output_type": "stream",
          "text": [
            "for(String string : mCha) // line 1\n",
            "{\n",
            "  // loop working\n",
            "}\n"
          ],
          "name": "stdout"
        }
      ]
    },
    {
      "cell_type": "code",
      "metadata": {
        "id": "RfRITpBiJCo6",
        "colab_type": "code",
        "colab": {
          "base_uri": "https://localhost:8080/",
          "height": 403
        },
        "outputId": "c0429600-4d82-4eea-94ff-dc1d7fdc640b"
      },
      "source": [
        "!howdoi send a email"
      ],
      "execution_count": null,
      "outputs": [
        {
          "output_type": "stream",
          "text": [
            "# Import smtplib for the actual sending function\n",
            "import smtplib\n",
            "\n",
            "# Import the email modules we'll need\n",
            "from email.mime.text import MIMEText\n",
            "\n",
            "# Open a plain text file for reading.  For this example, assume that\n",
            "# the text file contains only ASCII characters.\n",
            "with open(textfile, 'rb') as fp:\n",
            "    # Create a text/plain message\n",
            "    msg = MIMEText(fp.read())\n",
            "\n",
            "# me == the sender's email address\n",
            "# you == the recipient's email address\n",
            "msg['Subject'] = 'The contents of %s' % textfile\n",
            "msg['From'] = me\n",
            "msg['To'] = you\n",
            "\n",
            "# Send the message via our own SMTP server, but don't include the\n",
            "# envelope header.\n",
            "s = smtplib.SMTP('localhost')\n",
            "s.sendmail(me, [you], msg.as_string())\n",
            "s.quit()\n"
          ],
          "name": "stdout"
        }
      ]
    },
    {
      "cell_type": "code",
      "metadata": {
        "id": "fcv-S8DMJKDH",
        "colab_type": "code",
        "colab": {
          "base_uri": "https://localhost:8080/",
          "height": 524
        },
        "outputId": "e8717943-1bc8-46b3-cfc0-76f6bc3a9118"
      },
      "source": [
        "!howdoi propose"
      ],
      "execution_count": null,
      "outputs": [
        {
          "output_type": "stream",
          "text": [
            "If you want to propose a site where English will not be the primary language, please read [Internationalization 'State of the Stack'](https://area51.meta.stackexchange.com/questions/20988) (or [for Stack Overflow alike sites](https://area51.meta.stackexchange.com/questions/20987)) first.\n",
            "\n",
            "\n",
            "\n",
            "\n",
            "Check if the subject/idea is not already covered on any of the [current sites](https://stackexchange.com/sites).\n",
            "\n",
            "\n",
            "Go to [Area 51](https://area51.stackexchange.com).\n",
            "\n",
            "\n",
            "Search for a proposal. If already exists follow/commit and share it. Otherwise follow next steps.\n",
            "\n",
            "\n",
            "Select the appropriate category on the left.\n",
            "\n",
            "\n",
            "Scroll down to the bottom of the page.\n",
            "\n",
            "\n",
            "Click the link entitled \"Propose a new [topic] site\".\n",
            "\n",
            "\n",
            "\n",
            "\n",
            "As always, it is advisable to search for the topic of your proposal to ensure that you don't create a duplicate. Make sure you already have enough people that you can reach out to, to [get the proposal off the ground](https://area51.meta.stackexchange.com/questions/27938/changes-to-the-area-51-process-v3-0).\n",
            "\n",
            "\n",
            "If you are not sure about the scope of your proposal, you can discuss your ideas about the proposal on the [Area 51 Discussion Zone](https://area51.meta.stackexchange.com/).\n"
          ],
          "name": "stdout"
        }
      ]
    },
    {
      "cell_type": "code",
      "metadata": {
        "id": "KQTRTs5QJXAU",
        "colab_type": "code",
        "colab": {
          "base_uri": "https://localhost:8080/",
          "height": 34
        },
        "outputId": "271c70ba-5876-426d-83be-c9b099096032"
      },
      "source": [
        "#MAPPING\n",
        "\n",
        "\n",
        "x=[1,2,3]\n",
        "y=map(lambda x:x+1 ,x)\n",
        "print(list(y))"
      ],
      "execution_count": null,
      "outputs": [
        {
          "output_type": "stream",
          "text": [
            "[2, 3, 4]\n"
          ],
          "name": "stdout"
        }
      ]
    },
    {
      "cell_type": "code",
      "metadata": {
        "id": "ahxRm1H4Kgyx",
        "colab_type": "code",
        "colab": {
          "base_uri": "https://localhost:8080/",
          "height": 34
        },
        "outputId": "e968d1af-1f77-46cf-8b70-9686c55e36f1"
      },
      "source": [
        "y"
      ],
      "execution_count": null,
      "outputs": [
        {
          "output_type": "execute_result",
          "data": {
            "text/plain": [
              "<map at 0x7f0449aee208>"
            ]
          },
          "metadata": {
            "tags": []
          },
          "execution_count": 58
        }
      ]
    },
    {
      "cell_type": "code",
      "metadata": {
        "id": "NyfQCE6GKpyG",
        "colab_type": "code",
        "colab": {
          "base_uri": "https://localhost:8080/",
          "height": 34
        },
        "outputId": "a231f39c-6c12-4595-f2ab-f0d7a35bdcd8"
      },
      "source": [
        "number1=[1,2,3]\n",
        "number2=[4,5,6]\n",
        "result=map(lambda x,y:x+y,number1,number2)\n",
        "print(list(result))"
      ],
      "execution_count": null,
      "outputs": [
        {
          "output_type": "stream",
          "text": [
            "[5, 7, 9]\n"
          ],
          "name": "stdout"
        }
      ]
    },
    {
      "cell_type": "code",
      "metadata": {
        "id": "UDsoyxMTK3Fy",
        "colab_type": "code",
        "colab": {}
      },
      "source": [
        ""
      ],
      "execution_count": null,
      "outputs": []
    }
  ]
}